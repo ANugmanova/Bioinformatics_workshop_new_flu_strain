{
 "cells": [
  {
   "cell_type": "markdown",
   "id": "351e35d4",
   "metadata": {},
   "source": [
    "# Lab Journal Project 2. Analysis of new flu strain"
   ]
  },
  {
   "cell_type": "markdown",
   "id": "991c0134",
   "metadata": {},
   "source": [
    "* [Data preparation](#first-bullet)\n",
    "* [Aligment](#second-bullet)\n",
    "* [Variant calling](#third-bullet)\n",
    "* [Variant analysis](#fourth-bullet)"
   ]
  },
  {
   "cell_type": "markdown",
   "id": "3f9c6dbb",
   "metadata": {},
   "source": [
    "## Data preparation <a class=\"anchor\" id=\"first-bullet\"></a>"
   ]
  },
  {
   "cell_type": "code",
   "execution_count": 5,
   "id": "6a0c9697",
   "metadata": {},
   "outputs": [],
   "source": [
    "!mkdir data"
   ]
  },
  {
   "cell_type": "markdown",
   "id": "fdaa7ff2",
   "metadata": {},
   "source": [
    "Sequencing results from roommate:"
   ]
  },
  {
   "cell_type": "code",
   "execution_count": 7,
   "id": "a3ba781d",
   "metadata": {},
   "outputs": [],
   "source": [
    "!wget http://ftp.sra.ebi.ac.uk/vol1/fastq/SRR170/001/SRR1705851/SRR1705851.fastq.gz -O data/SRR1705851.fastq.gz\n",
    "!gunzip data/SRR1705851.fastq.gz"
   ]
  },
  {
   "cell_type": "code",
   "execution_count": 8,
   "id": "0807eca6",
   "metadata": {},
   "outputs": [
    {
     "name": "stdout",
     "output_type": "stream",
     "text": [
      "@SRR1705851.1 1/1\r\n",
      "TTCGTGATTGTTTTCACTATCGTTCCGTTTGGCACTGCATGGTGCCCAAGGCACAGCGTTGCCGTGCTGTTGTCATTTCCAGGAAGTTTTTGAGCGAAAACCAGACATAGAATGTAGCTCAAAGCAATGATAGTCTTCATGGTTAATAG\r\n",
      "+\r\n",
      ",<==<<<<A@@@@@@@EEE;CEE+AC>EC;>EFFDC@=A@AE999DDD>>@E777EE75C>EF>EDEEFFFF--AE>EDEEEED=C-58AE=<D=<<DD=D9CDD@EEDED@DEDDE*9;@DDED@@@7@E*;*888@*8;@8@;;@@E\r\n",
      "@SRR1705851.2 2/1\r\n",
      "NATTAACCATGAAGACTATCATTGCTTTGAGCTACATTCTATGTCTGGTTTTCGCTCAAAAACTTCCTGGAAATGACAACAGCACGGCAACGCTGTGCCTTGGGCACCATGCAGTGCCAAACGGAACGATAGTGAAAACAATCACGAATGA\r\n",
      "+\r\n",
      "#5<???BBEEEDEDDDGGGGGGIIIIIIIIIIIIIIIIIIIIIHIIIIFHHIIHHHHHIIIIHIIIIIIIHIIIIIIIIIIIIIIHHHHHHHHHHEHHHHHFFHHHHHHFFHHGFGGGGGGGGGGGGGEEEGCEEGGGGGEEGGGGCGEGG\r\n",
      "@SRR1705851.3 3/1\r\n",
      "GTTTGGCACTGCATGGTGCCCAAGGCACAGCGTTGCCGTGCTGTTGTCATTTCCAGGAAGTTTTTGAGCGAAAACCAGACATAGAATGTAGCTCAAAGCAATGATAGTCTTCATGGTTAATAG\r\n"
     ]
    }
   ],
   "source": [
    "!head -10 data/SRR1705851.fastq"
   ]
  },
  {
   "cell_type": "markdown",
   "id": "79d4cff2",
   "metadata": {},
   "source": [
    "Here is the reference influenza hemagglutinin gene https://www.ncbi.nlm.nih.gov/nuccore/KF848938.1?report=fasta\n",
    "\n",
    "We need to put this information to the fasta file"
   ]
  },
  {
   "cell_type": "code",
   "execution_count": 11,
   "id": "18f6b343",
   "metadata": {},
   "outputs": [],
   "source": [
    "!printf \">KF848938.1 Influenza A virus (A/USA/RVD1_H3/2011(H3N2)) segment 4 hemagglutinin (HA) gene, partial cds\\nCAAAAACTTCCTGGAAATGACAACAGCACGGCAACGCTGTGCCTTGGGCACCATGCAGTGCCAAACGGAACAATAGTGAAAACAATCACGAATGACCAAATTGAAGTTACTAATGCCACTGAGCTGGTTCAGAGTTCCTCAACAGGTGAAATATGCAACAGTCCTCATCAGATCCTTGATGGAGAAAACTGCACACTAATAGATGCTCTATTGGGAGACCCTCAGTGTGATGGCTTCCAAAACAAGAAATGGGACCTTTTTGTTGAACGAAGCAAAGCCCACAGCAACTGTTACCCTTATGATGTGCCGGATTATGCCTCCCTTAGGTCACTAGTTGCCTCATCCGGCACACTGGAGTTTAACAATGAAAGCTTCAATTGGACTGGAGTCACTCAAAACGGAACAAGCTCTGCTTGCATAAGGAGATCTAATAATAGTTTCTTTAGTAGATTGAATTGGTTGACCCACTTAAACTTCAAATACCCAGCATTGAACGTGACTATGCCAAACAATGAACAATTTGACAAATTGTACATTTGGGGGGTTCACCACCCGGGTACGGACAAGGACCAAATCTTCCTGTATGCTCAAGCAGCAGGAAGAATCACAGTATCTACCAAAAGAAGCCAACAAGCTGTAATTCCGAATATCGGATCTAGACCCAGAGTAAGGAATATCCCTAGCAGAGTAAGCATCTATTGGACAATAGTAAAACCGGGAGACATACTTTTGATTAACAGCACAGGGAATCTAATTGCTCCTAGGGGTTACTTTAAAATACGAAGTGGGAAAAGCTCAATAATGAGATCAGATGCACCCATTGGCAAATGCAATTCTGCATGCATCACTCCAAATGGAAGCATTCCCAATGACAAACCATTCCAAAATGTAAACAGGATCACATACGGGGCCTGTCCCAGATATGTTAAGCAAAACACTCTGAAATTGGCAACAGGAATGAGAAATGTACCAGAGAAACAAACTAGAGGCATATTTGGCGCAATAGCTGGTTTCATAGAAAATGGTTGGGAGGGAATGGTGGATGGTTGGTACGGTTTCAGGCATCAAAATTCTGAGGGAAGGGGACAAGCAGCAGATCTCAAAAGCACTCAAGCAGCAATCGATCAAATCAATGGGAAGCTGAATAGATTGATCGGGAAAACCAACGAGAAATTCCATCAGATTGAAAAAGAATTCTCAGAAGTCGAAGGGAGAATTCAGGACCTTGAGAAATATGTTGAGGACACTAAAATAGATCTATGGTCATACAACGCGGAGCTTCTTGTTGCCCTGGAGAACCAACACACAATTGATCTAACTGACTCAGAAATGAACAAATTGTTTGAAAAAACAAAGAAGCAACTGAGGGAAAATGCTGAGGATATGGGCAATGGTTGTTTCAAAATATACCACAAATGTGACAATGCCTGCATAGGATCAATCAGAAATGGAACTTATGACCACGATGTGTACAGAGATGAAGCATTAAACAACCGATTCCAGATCAAGGGAGTTGAGCTGAAGTCAGGGTACAAAGATTGGATCCTATGGATTTCCTTTGCCATATCATGTTTTTTGCTTTGTGTTGCTTTGTTGGGGTTCATCATGTGGGCCTGCCAAAAAGGCAACATTAGGTGCAACATTTGCATTTGAGTGCATTAATTA\\n\" > data/reference.fasta\n"
   ]
  },
  {
   "cell_type": "code",
   "execution_count": 12,
   "id": "9a0cfd39",
   "metadata": {},
   "outputs": [
    {
     "name": "stdout",
     "output_type": "stream",
     "text": [
      "Length of reference read: 1665\n"
     ]
    }
   ],
   "source": [
    "seq = 'CAAAAACTTCCTGGAAATGACAACAGCACGGCAACGCTGTGCCTTGGGCACCATGCAGTGCCAAACGGAACAATAGTGAAAACAATCACGAATGACCAAATTGAAGTTACTAATGCCACTGAGCTGGTTCAGAGTTCCTCAACAGGTGAAATATGCAACAGTCCTCATCAGATCCTTGATGGAGAAAACTGCACACTAATAGATGCTCTATTGGGAGACCCTCAGTGTGATGGCTTCCAAAACAAGAAATGGGACCTTTTTGTTGAACGAAGCAAAGCCCACAGCAACTGTTACCCTTATGATGTGCCGGATTATGCCTCCCTTAGGTCACTAGTTGCCTCATCCGGCACACTGGAGTTTAACAATGAAAGCTTCAATTGGACTGGAGTCACTCAAAACGGAACAAGCTCTGCTTGCATAAGGAGATCTAATAATAGTTTCTTTAGTAGATTGAATTGGTTGACCCACTTAAACTTCAAATACCCAGCATTGAACGTGACTATGCCAAACAATGAACAATTTGACAAATTGTACATTTGGGGGGTTCACCACCCGGGTACGGACAAGGACCAAATCTTCCTGTATGCTCAAGCAGCAGGAAGAATCACAGTATCTACCAAAAGAAGCCAACAAGCTGTAATTCCGAATATCGGATCTAGACCCAGAGTAAGGAATATCCCTAGCAGAGTAAGCATCTATTGGACAATAGTAAAACCGGGAGACATACTTTTGATTAACAGCACAGGGAATCTAATTGCTCCTAGGGGTTACTTTAAAATACGAAGTGGGAAAAGCTCAATAATGAGATCAGATGCACCCATTGGCAAATGCAATTCTGCATGCATCACTCCAAATGGAAGCATTCCCAATGACAAACCATTCCAAAATGTAAACAGGATCACATACGGGGCCTGTCCCAGATATGTTAAGCAAAACACTCTGAAATTGGCAACAGGAATGAGAAATGTACCAGAGAAACAAACTAGAGGCATATTTGGCGCAATAGCTGGTTTCATAGAAAATGGTTGGGAGGGAATGGTGGATGGTTGGTACGGTTTCAGGCATCAAAATTCTGAGGGAAGGGGACAAGCAGCAGATCTCAAAAGCACTCAAGCAGCAATCGATCAAATCAATGGGAAGCTGAATAGATTGATCGGGAAAACCAACGAGAAATTCCATCAGATTGAAAAAGAATTCTCAGAAGTCGAAGGGAGAATTCAGGACCTTGAGAAATATGTTGAGGACACTAAAATAGATCTATGGTCATACAACGCGGAGCTTCTTGTTGCCCTGGAGAACCAACACACAATTGATCTAACTGACTCAGAAATGAACAAATTGTTTGAAAAAACAAAGAAGCAACTGAGGGAAAATGCTGAGGATATGGGCAATGGTTGTTTCAAAATATACCACAAATGTGACAATGCCTGCATAGGATCAATCAGAAATGGAACTTATGACCACGATGTGTACAGAGATGAAGCATTAAACAACCGATTCCAGATCAAGGGAGTTGAGCTGAAGTCAGGGTACAAAGATTGGATCCTATGGATTTCCTTTGCCATATCATGTTTTTTGCTTTGTGTTGCTTTGTTGGGGTTCATCATGTGGGCCTGCCAAAAAGGCAACATTAGGTGCAACATTTGCATTTGAGTGCATTAATTA'\n",
    "print(f'Length of reference read: {len(seq)}')\n"
   ]
  },
  {
   "cell_type": "markdown",
   "id": "e00f0a2e",
   "metadata": {},
   "source": [
    "Control reads for reference samples to check sequencing mistakes:"
   ]
  },
  {
   "cell_type": "code",
   "execution_count": 13,
   "id": "6bd01343",
   "metadata": {},
   "outputs": [],
   "source": [
    "# SRR1705858: \n",
    "!wget ftp://ftp.sra.ebi.ac.uk/vol1/fastq/SRR170/008/SRR1705858/SRR1705858.fastq.gz -O data/SRR1705858.fastq.gz\n",
    "# SRR1705859: \n",
    "!wget ftp://ftp.sra.ebi.ac.uk/vol1/fastq/SRR170/009/SRR1705859/SRR1705859.fastq.gz -O data/SRR1705859.fastq.gz\n",
    "# SRR1705860\n",
    "!wget ftp://ftp.sra.ebi.ac.uk/vol1/fastq/SRR170/000/SRR1705860/SRR1705860.fastq.gz -O data/SRR1705860.fastq.gz"
   ]
  },
  {
   "cell_type": "code",
   "execution_count": 14,
   "id": "3ef54e4f",
   "metadata": {},
   "outputs": [],
   "source": [
    "!gunzip data/SRR1705858.fastq.gz\n",
    "!gunzip data/SRR1705859.fastq.gz\n",
    "!gunzip data/SRR1705860.fastq.gz"
   ]
  },
  {
   "cell_type": "markdown",
   "id": "df37b790",
   "metadata": {},
   "source": [
    "The number of reads for each file:"
   ]
  },
  {
   "cell_type": "code",
   "execution_count": 15,
   "id": "3b225f9d",
   "metadata": {},
   "outputs": [
    {
     "name": "stdout",
     "output_type": "stream",
     "text": [
      "  358265\n",
      "  256586\n",
      "  233327\n",
      "  249964\n"
     ]
    }
   ],
   "source": [
    "!grep '@SRR1705851' data/SRR1705851.fastq | wc -l\n",
    "!grep '@SRR1705858' data/SRR1705858.fastq | wc -l \n",
    "!grep '@SRR1705859' data/SRR1705859.fastq | wc -l \n",
    "!grep '@SRR1705860' data/SRR1705860.fastq | wc -l "
   ]
  },
  {
   "cell_type": "markdown",
   "id": "51ae618c",
   "metadata": {},
   "source": [
    "The sum of read length for each file:"
   ]
  },
  {
   "cell_type": "code",
   "execution_count": 16,
   "id": "0c513560",
   "metadata": {},
   "outputs": [
    {
     "name": "stdout",
     "output_type": "stream",
     "text": [
      " 53076129\n",
      " 38375316\n",
      " 34869894\n",
      " 37420450\n"
     ]
    }
   ],
   "source": [
    "!awk '/@SRR1705851/{getline; print}' data/SRR1705851.fastq | wc -m\n",
    "!awk '/@SRR1705858/{getline; print}' data/SRR1705858.fastq | wc -m\n",
    "!awk '/@SRR1705859/{getline; print}' data/SRR1705859.fastq | wc -m\n",
    "!awk '/@SRR1705860/{getline; print}' data/SRR1705860.fastq | wc -m"
   ]
  },
  {
   "cell_type": "markdown",
   "id": "fcdd0d80",
   "metadata": {},
   "source": [
    "Average coverage for each file:"
   ]
  },
  {
   "cell_type": "code",
   "execution_count": 18,
   "id": "dfdbc7c5",
   "metadata": {},
   "outputs": [
    {
     "name": "stdout",
     "output_type": "stream",
     "text": [
      "SRR1705851: 148.14768118571448\n",
      "SRR1705858: 149.56122313766144\n",
      "SRR1705859: 149.4464592610371\n",
      "SRR1705860: 149.7033572834488\n"
     ]
    }
   ],
   "source": [
    "print(f'SRR1705851: {53076129/358265}')\n",
    "print(f'SRR1705858: {38375316/256586}')\n",
    "print(f'SRR1705859: {34869894/233327}')\n",
    "print(f'SRR1705860: {37420450/249964}')"
   ]
  },
  {
   "cell_type": "markdown",
   "id": "cb259ca6",
   "metadata": {},
   "source": [
    "Average coverage for each base:"
   ]
  },
  {
   "cell_type": "code",
   "execution_count": 17,
   "id": "6861baa6",
   "metadata": {},
   "outputs": [
    {
     "name": "stdout",
     "output_type": "stream",
     "text": [
      "SRR1705851: 31877.554954954954\n",
      "SRR1705858: 23048.237837837838\n",
      "SRR1705859: 20942.87927927928\n",
      "SRR1705860: 22474.744744744745\n"
     ]
    }
   ],
   "source": [
    "print(f'SRR1705851: {53076129/1665}')\n",
    "print(f'SRR1705858: {38375316/1665}')\n",
    "print(f'SRR1705859: {34869894/1665}')\n",
    "print(f'SRR1705860: {37420450/1665}')"
   ]
  },
  {
   "cell_type": "code",
   "execution_count": null,
   "id": "72c4dd4a",
   "metadata": {},
   "outputs": [],
   "source": []
  },
  {
   "cell_type": "markdown",
   "id": "6ca8af17",
   "metadata": {},
   "source": [
    "## Aligment <a class=\"anchor\" id=\"second-bullet\"></a>"
   ]
  },
  {
   "cell_type": "code",
   "execution_count": 19,
   "id": "10468911",
   "metadata": {},
   "outputs": [],
   "source": [
    "!bwa index data/SRR1705851.fastq \n",
    "!bwa mem data/reference.fasta data/SRR1705851.fastq > data/SRR1705851_alignment.sam #| \n",
    "!samtools view -S -b data/SRR1705851_alignment.sam > data/SRR1705851_alignment.bam\n",
    "!samtools sort data/SRR1705851_alignment.bam -o data/SRR1705851_alignment_sorted.bam\n",
    "!samtools index data/SRR1705851_alignment_sorted.bam"
   ]
  },
  {
   "cell_type": "code",
   "execution_count": 23,
   "id": "7434e274",
   "metadata": {},
   "outputs": [
    {
     "name": "stdout",
     "output_type": "stream",
     "text": [
      "361349 + 0 in total (QC-passed reads + QC-failed reads)\r\n",
      "358265 + 0 primary\r\n",
      "0 + 0 secondary\r\n",
      "3084 + 0 supplementary\r\n",
      "0 + 0 duplicates\r\n",
      "0 + 0 primary duplicates\r\n",
      "361116 + 0 mapped (99.94% : N/A)\r\n",
      "358032 + 0 primary mapped (99.93% : N/A)\r\n",
      "0 + 0 paired in sequencing\r\n",
      "0 + 0 read1\r\n",
      "0 + 0 read2\r\n",
      "0 + 0 properly paired (N/A : N/A)\r\n",
      "0 + 0 with itself and mate mapped\r\n",
      "0 + 0 singletons (N/A : N/A)\r\n",
      "0 + 0 with mate mapped to a different chr\r\n",
      "0 + 0 with mate mapped to a different chr (mapQ>=5)\r\n"
     ]
    }
   ],
   "source": [
    "!samtools flagstat data/SRR1705851_alignment.bam"
   ]
  },
  {
   "cell_type": "code",
   "execution_count": 20,
   "id": "3b560066",
   "metadata": {},
   "outputs": [],
   "source": [
    "!samtools mpileup -d 50000 -f data/reference.fasta data/SRR1705851_alignment_sorted.bam > data/SRR1705851.mpileup"
   ]
  },
  {
   "cell_type": "code",
   "execution_count": 21,
   "id": "ca5f278e",
   "metadata": {},
   "outputs": [],
   "source": [
    "!bwa index data/SRR1705858.fastq \n",
    "!bwa mem data/reference.fasta data/SRR1705858.fastq > data/SRR1705858_alignment.sam #| \n",
    "!samtools view -S -b data/SRR1705858_alignment.sam > data/SRR1705858_alignment.bam\n",
    "!samtools sort data/SRR1705858_alignment.bam -o data/SRR1705858_alignment_sorted.bam\n",
    "!samtools index data/SRR1705858_alignment_sorted.bam\n",
    "\n",
    "!bwa index data/SRR1705859.fastq \n",
    "!bwa mem data/reference.fasta data/SRR1705859.fastq > data/SRR1705859_alignment.sam #| \n",
    "!samtools view -S -b data/SRR1705859_alignment.sam > data/SRR1705859_alignment.bam\n",
    "!samtools sort data/SRR1705859_alignment.bam -o data/SRR1705859_alignment_sorted.bam\n",
    "!samtools index data/SRR1705859_alignment_sorted.bam\n",
    "\n",
    "!bwa index data/SRR1705860.fastq \n",
    "!bwa mem data/reference.fasta data/SRR1705860.fastq > data/SRR1705860_alignment.sam #| \n",
    "!samtools view -S -b data/SRR1705860_alignment.sam > data/SRR1705860_alignment.bam\n",
    "!samtools sort data/SRR1705860_alignment.bam -o data/SRR1705860_alignment_sorted.bam\n",
    "!samtools index data/SRR1705860_alignment_sorted.bam"
   ]
  },
  {
   "cell_type": "code",
   "execution_count": 24,
   "id": "ea088ddf",
   "metadata": {},
   "outputs": [
    {
     "name": "stdout",
     "output_type": "stream",
     "text": [
      "256744 + 0 in total (QC-passed reads + QC-failed reads)\n",
      "256586 + 0 primary\n",
      "0 + 0 secondary\n",
      "158 + 0 supplementary\n",
      "0 + 0 duplicates\n",
      "0 + 0 primary duplicates\n",
      "256658 + 0 mapped (99.97% : N/A)\n",
      "256500 + 0 primary mapped (99.97% : N/A)\n",
      "0 + 0 paired in sequencing\n",
      "0 + 0 read1\n",
      "0 + 0 read2\n",
      "0 + 0 properly paired (N/A : N/A)\n",
      "0 + 0 with itself and mate mapped\n",
      "0 + 0 singletons (N/A : N/A)\n",
      "0 + 0 with mate mapped to a different chr\n",
      "0 + 0 with mate mapped to a different chr (mapQ>=5)\n",
      "233451 + 0 in total (QC-passed reads + QC-failed reads)\n",
      "233327 + 0 primary\n",
      "0 + 0 secondary\n",
      "124 + 0 supplementary\n",
      "0 + 0 duplicates\n",
      "0 + 0 primary duplicates\n",
      "233375 + 0 mapped (99.97% : N/A)\n",
      "233251 + 0 primary mapped (99.97% : N/A)\n",
      "0 + 0 paired in sequencing\n",
      "0 + 0 read1\n",
      "0 + 0 read2\n",
      "0 + 0 properly paired (N/A : N/A)\n",
      "0 + 0 with itself and mate mapped\n",
      "0 + 0 singletons (N/A : N/A)\n",
      "0 + 0 with mate mapped to a different chr\n",
      "0 + 0 with mate mapped to a different chr (mapQ>=5)\n",
      "250184 + 0 in total (QC-passed reads + QC-failed reads)\n",
      "249964 + 0 primary\n",
      "0 + 0 secondary\n",
      "220 + 0 supplementary\n",
      "0 + 0 duplicates\n",
      "0 + 0 primary duplicates\n",
      "250108 + 0 mapped (99.97% : N/A)\n",
      "249888 + 0 primary mapped (99.97% : N/A)\n",
      "0 + 0 paired in sequencing\n",
      "0 + 0 read1\n",
      "0 + 0 read2\n",
      "0 + 0 properly paired (N/A : N/A)\n",
      "0 + 0 with itself and mate mapped\n",
      "0 + 0 singletons (N/A : N/A)\n",
      "0 + 0 with mate mapped to a different chr\n",
      "0 + 0 with mate mapped to a different chr (mapQ>=5)\n"
     ]
    }
   ],
   "source": [
    "!samtools flagstat data/SRR1705858_alignment.bam\n",
    "!samtools flagstat data/SRR1705859_alignment.bam\n",
    "!samtools flagstat data/SRR1705860_alignment.bam"
   ]
  },
  {
   "cell_type": "code",
   "execution_count": 22,
   "id": "7252f420",
   "metadata": {},
   "outputs": [],
   "source": [
    "!samtools mpileup -d 50000 -f data/reference.fasta data/SRR1705858_alignment_sorted.bam > data/SRR1705858.mpileup\n",
    "!samtools mpileup -d 50000 -f data/reference.fasta data/SRR1705859_alignment_sorted.bam > data/SRR1705859.mpileup\n",
    "!samtools mpileup -d 50000 -f data/reference.fasta data/SRR1705860_alignment_sorted.bam > data/SRR1705860.mpileup\n"
   ]
  },
  {
   "cell_type": "markdown",
   "id": "fbff982c",
   "metadata": {},
   "source": [
    "## Variant calling <a class=\"anchor\" id=\"third-bullet\"></a>"
   ]
  },
  {
   "cell_type": "code",
   "execution_count": 25,
   "id": "7d065502",
   "metadata": {},
   "outputs": [],
   "source": [
    "!java -jar varscan/VarScan.v2.4.0.jar mpileup2snp data/SRR1705851.mpileup --min-var-freq 0.95 --variants --output-vcf 1 > VarScan_results_SRR1705851_95.vcf\n"
   ]
  },
  {
   "cell_type": "code",
   "execution_count": 26,
   "id": "79cf7015",
   "metadata": {},
   "outputs": [],
   "source": [
    "!java -jar varscan/VarScan.v2.4.0.jar mpileup2snp data/SRR1705851.mpileup --min-var-freq 0.005 --variants --output-vcf 1 > VarScan_results_SRR1705851_05.vcf\n"
   ]
  },
  {
   "cell_type": "code",
   "execution_count": 27,
   "id": "a3c75206",
   "metadata": {},
   "outputs": [
    {
     "name": "stdout",
     "output_type": "stream",
     "text": [
      "KF848938.1 72 A G 1/1:255:16832:16794:6:16787:99.96%:0E0:35:36:4:2:10898:5889\r\n",
      "KF848938.1 117 C T 1/1:255:20768:20663:36:20625:99.82%:0E0:35:37:27:9:13462:7163\r\n",
      "KF848938.1 307 C T 0/1:255:37506:37386:37029:351:0.94%:6.9068E-66:36:35:22400:14629:184:167\r\n",
      "KF848938.1 774 T C 1/1:255:38397:38191:8:38177:99.96%:0E0:32:37:7:1:19806:18371\r\n",
      "KF848938.1 999 C T 1/1:255:32561:32115:40:32070:99.86%:0E0:35:36:23:17:17184:14886\r\n",
      "KF848938.1 1260 A C 1/1:255:23067:23033:2:23019:99.94%:0E0:32:37:0:2:9824:13195\r\n",
      "KF848938.1 1458 T C 0/1:255:27064:26929:26701:225:0.84%:3.4507E-41:37:35:6865:19836:80:145\r\n"
     ]
    }
   ],
   "source": [
    "!cat VarScan_results_SRR1705851_05.vcf | awk 'NR>24 {print $1, $2, $4, $5, $10}'"
   ]
  },
  {
   "cell_type": "code",
   "execution_count": 28,
   "id": "adfb8ac6",
   "metadata": {},
   "outputs": [],
   "source": [
    "!java -jar varscan/VarScan.v2.4.0.jar mpileup2snp data/SRR1705858.mpileup --min-var-freq 0.001 --variants --output-vcf 1 > VarScan_results_SRR1705858_01.vcf\n",
    "!java -jar varscan/VarScan.v2.4.0.jar mpileup2snp data/SRR1705859.mpileup --min-var-freq 0.001 --variants --output-vcf 1 > VarScan_results_SRR1705859_01.vcf\n",
    "!java -jar varscan/VarScan.v2.4.0.jar mpileup2snp data/SRR1705860.mpileup --min-var-freq 0.001 --variants --output-vcf 1 > VarScan_results_SRR1705860_01.vcf\n"
   ]
  },
  {
   "cell_type": "code",
   "execution_count": 172,
   "id": "d309edca",
   "metadata": {},
   "outputs": [],
   "source": [
    "!cat VarScan_results_SRR1705858_01.vcf | awk 'NR>24 {print $1, $2, $4, $5, $10}'"
   ]
  },
  {
   "cell_type": "markdown",
   "id": "37f44877",
   "metadata": {},
   "source": [
    "## Variant analysis <a class=\"anchor\" id=\"fourth-bullet\"></a>"
   ]
  },
  {
   "cell_type": "code",
   "execution_count": 33,
   "id": "8a34bc8e",
   "metadata": {},
   "outputs": [
    {
     "data": {
      "text/plain": [
       "['254',\n",
       " '1086',\n",
       " '276',\n",
       " '722',\n",
       " '1213',\n",
       " '859',\n",
       " '744',\n",
       " '691',\n",
       " '1280',\n",
       " '915',\n",
       " '340']"
      ]
     },
     "execution_count": 33,
     "metadata": {},
     "output_type": "execute_result"
    }
   ],
   "source": [
    "import pandas as pd\n",
    "from collections import defaultdict\n",
    "from functools import reduce\n",
    "\n",
    "def read_vcf(file_name):\n",
    "    df = defaultdict(list)\n",
    "    with open(file_name) as f:\n",
    "        for i, line in enumerate(f):\n",
    "            if i<24:\n",
    "                continue\n",
    "            values = line.split()\n",
    "            df['name'].append(values[0])\n",
    "            df['position'].append(values[1])\n",
    "            df['reference base'].append(values[3])\n",
    "            df['alternative base'].append(values[4])\n",
    "            df['frequency %'].append(float(values[9].split(':')[6][:-1]))\n",
    "    return pd.DataFrame(df)\n",
    "\n",
    "VarScan_results_SRR1705851_95 = read_vcf('VarScan_results_SRR1705851_95.vcf')\n",
    "VarScan_results_SRR1705851_01 = read_vcf('VarScan_results_SRR1705851_01.vcf')\n",
    "VarScan_results_SRR1705858_01 = read_vcf('VarScan_results_SRR1705858_01.vcf')\n",
    "VarScan_results_SRR1705859_01 = read_vcf('VarScan_results_SRR1705859_01.vcf')\n",
    "VarScan_results_SRR1705860_01 = read_vcf('VarScan_results_SRR1705860_01.vcf')\n",
    "\n",
    "common_variants = list(reduce(set.intersection, map(set, [VarScan_results_SRR1705851_01.position, \n",
    "                                                          VarScan_results_SRR1705858_01.position, \n",
    "                                                          VarScan_results_SRR1705859_01.position, \n",
    "                                                          VarScan_results_SRR1705860_01.position])))\n",
    "common_variants\n"
   ]
  },
  {
   "cell_type": "code",
   "execution_count": 34,
   "id": "0d67f2e9",
   "metadata": {},
   "outputs": [
    {
     "data": {
      "text/html": [
       "<div>\n",
       "<style scoped>\n",
       "    .dataframe tbody tr th:only-of-type {\n",
       "        vertical-align: middle;\n",
       "    }\n",
       "\n",
       "    .dataframe tbody tr th {\n",
       "        vertical-align: top;\n",
       "    }\n",
       "\n",
       "    .dataframe thead th {\n",
       "        text-align: right;\n",
       "    }\n",
       "</style>\n",
       "<table border=\"1\" class=\"dataframe\">\n",
       "  <thead>\n",
       "    <tr style=\"text-align: right;\">\n",
       "      <th></th>\n",
       "      <th>name</th>\n",
       "      <th>position</th>\n",
       "      <th>reference base</th>\n",
       "      <th>alternative base</th>\n",
       "      <th>frequency %</th>\n",
       "    </tr>\n",
       "  </thead>\n",
       "  <tbody>\n",
       "    <tr>\n",
       "      <th>0</th>\n",
       "      <td>KF848938.1</td>\n",
       "      <td>72</td>\n",
       "      <td>A</td>\n",
       "      <td>G</td>\n",
       "      <td>99.96</td>\n",
       "    </tr>\n",
       "    <tr>\n",
       "      <th>1</th>\n",
       "      <td>KF848938.1</td>\n",
       "      <td>117</td>\n",
       "      <td>C</td>\n",
       "      <td>T</td>\n",
       "      <td>99.82</td>\n",
       "    </tr>\n",
       "    <tr>\n",
       "      <th>2</th>\n",
       "      <td>KF848938.1</td>\n",
       "      <td>774</td>\n",
       "      <td>T</td>\n",
       "      <td>C</td>\n",
       "      <td>99.96</td>\n",
       "    </tr>\n",
       "    <tr>\n",
       "      <th>3</th>\n",
       "      <td>KF848938.1</td>\n",
       "      <td>999</td>\n",
       "      <td>C</td>\n",
       "      <td>T</td>\n",
       "      <td>99.86</td>\n",
       "    </tr>\n",
       "    <tr>\n",
       "      <th>4</th>\n",
       "      <td>KF848938.1</td>\n",
       "      <td>1260</td>\n",
       "      <td>A</td>\n",
       "      <td>C</td>\n",
       "      <td>99.94</td>\n",
       "    </tr>\n",
       "  </tbody>\n",
       "</table>\n",
       "</div>"
      ],
      "text/plain": [
       "         name position reference base alternative base  frequency %\n",
       "0  KF848938.1       72              A                G        99.96\n",
       "1  KF848938.1      117              C                T        99.82\n",
       "2  KF848938.1      774              T                C        99.96\n",
       "3  KF848938.1      999              C                T        99.86\n",
       "4  KF848938.1     1260              A                C        99.94"
      ]
     },
     "execution_count": 34,
     "metadata": {},
     "output_type": "execute_result"
    }
   ],
   "source": [
    "VarScan_results_SRR1705851_95"
   ]
  },
  {
   "cell_type": "code",
   "execution_count": 35,
   "id": "dfee9638",
   "metadata": {},
   "outputs": [
    {
     "name": "stdout",
     "output_type": "stream",
     "text": [
      "VarScan_results_SRR1705851_01 mean: 23.999047619047616, std: 43.48282395438018\n",
      "VarScan_results_SRR1705858_01 mean: 0.25649122807017544, std: 0.07172594738880801\n",
      "VarScan_results_SRR1705859_01 mean: 0.2369230769230769, std: 0.05237640770866741\n",
      "VarScan_results_SRR1705860_01 mean: 0.250327868852459, std: 0.07803775182808968\n"
     ]
    }
   ],
   "source": [
    "print(f\"VarScan_results_SRR1705851_01 mean: {VarScan_results_SRR1705851_01['frequency %'].mean()}, std: {VarScan_results_SRR1705851_01['frequency %'].std()}\")\n",
    "print(f\"VarScan_results_SRR1705858_01 mean: {VarScan_results_SRR1705858_01['frequency %'].mean()}, std: {VarScan_results_SRR1705858_01['frequency %'].std()}\")\n",
    "print(f\"VarScan_results_SRR1705859_01 mean: {VarScan_results_SRR1705859_01['frequency %'].mean()}, std: {VarScan_results_SRR1705859_01['frequency %'].std()}\")\n",
    "print(f\"VarScan_results_SRR1705860_01 mean: {VarScan_results_SRR1705860_01['frequency %'].mean()}, std: {VarScan_results_SRR1705860_01['frequency %'].std()}\")\n"
   ]
  },
  {
   "cell_type": "code",
   "execution_count": 31,
   "id": "a1dc0040",
   "metadata": {},
   "outputs": [
    {
     "name": "stdout",
     "output_type": "stream",
     "text": [
      "0.48444112433672804\n"
     ]
    }
   ],
   "source": [
    "print(max(0.25649122807017544+3*0.07172594738880801, \n",
    "          0.2369230769230769+3*0.05237640770866741, \n",
    "          0.250327868852459+3*0.07803775182808968))"
   ]
  },
  {
   "cell_type": "code",
   "execution_count": 212,
   "id": "5c32935a",
   "metadata": {},
   "outputs": [
    {
     "data": {
      "text/html": [
       "<div>\n",
       "<style scoped>\n",
       "    .dataframe tbody tr th:only-of-type {\n",
       "        vertical-align: middle;\n",
       "    }\n",
       "\n",
       "    .dataframe tbody tr th {\n",
       "        vertical-align: top;\n",
       "    }\n",
       "\n",
       "    .dataframe thead th {\n",
       "        text-align: right;\n",
       "    }\n",
       "</style>\n",
       "<table border=\"1\" class=\"dataframe\">\n",
       "  <thead>\n",
       "    <tr style=\"text-align: right;\">\n",
       "      <th></th>\n",
       "      <th>name</th>\n",
       "      <th>position</th>\n",
       "      <th>reference base</th>\n",
       "      <th>alternative base</th>\n",
       "      <th>frequency %</th>\n",
       "    </tr>\n",
       "  </thead>\n",
       "  <tbody>\n",
       "    <tr>\n",
       "      <th>0</th>\n",
       "      <td>KF848938.1</td>\n",
       "      <td>44</td>\n",
       "      <td>T</td>\n",
       "      <td>C</td>\n",
       "      <td>0.47</td>\n",
       "    </tr>\n",
       "  </tbody>\n",
       "</table>\n",
       "</div>"
      ],
      "text/plain": [
       "         name position reference base alternative base  frequency %\n",
       "0  KF848938.1       44              T                C         0.47"
      ]
     },
     "execution_count": 212,
     "metadata": {},
     "output_type": "execute_result"
    }
   ],
   "source": [
    "VarScan_results_SRR1705859_01.loc[VarScan_results_SRR1705859_01['frequency %'] > 0.2369230769230769+3*0.05237640770866741] \n",
    "VarScan_results_SRR1705859_01.loc[VarScan_results_SRR1705859_01['frequency %'] < .2369230769230769-3*0.05237640770866741]\n"
   ]
  },
  {
   "cell_type": "code",
   "execution_count": 215,
   "id": "3ba516db",
   "metadata": {},
   "outputs": [
    {
     "data": {
      "text/html": [
       "<div>\n",
       "<style scoped>\n",
       "    .dataframe tbody tr th:only-of-type {\n",
       "        vertical-align: middle;\n",
       "    }\n",
       "\n",
       "    .dataframe tbody tr th {\n",
       "        vertical-align: top;\n",
       "    }\n",
       "\n",
       "    .dataframe thead th {\n",
       "        text-align: right;\n",
       "    }\n",
       "</style>\n",
       "<table border=\"1\" class=\"dataframe\">\n",
       "  <thead>\n",
       "    <tr style=\"text-align: right;\">\n",
       "      <th></th>\n",
       "      <th>name</th>\n",
       "      <th>position</th>\n",
       "      <th>reference base</th>\n",
       "      <th>alternative base</th>\n",
       "      <th>frequency %</th>\n",
       "    </tr>\n",
       "  </thead>\n",
       "  <tbody>\n",
       "    <tr>\n",
       "      <th>0</th>\n",
       "      <td>KF848938.1</td>\n",
       "      <td>38</td>\n",
       "      <td>T</td>\n",
       "      <td>C</td>\n",
       "      <td>0.7</td>\n",
       "    </tr>\n",
       "    <tr>\n",
       "      <th>1</th>\n",
       "      <td>KF848938.1</td>\n",
       "      <td>44</td>\n",
       "      <td>T</td>\n",
       "      <td>C</td>\n",
       "      <td>0.5</td>\n",
       "    </tr>\n",
       "  </tbody>\n",
       "</table>\n",
       "</div>"
      ],
      "text/plain": [
       "         name position reference base alternative base  frequency %\n",
       "0  KF848938.1       38              T                C          0.7\n",
       "1  KF848938.1       44              T                C          0.5"
      ]
     },
     "execution_count": 215,
     "metadata": {},
     "output_type": "execute_result"
    }
   ],
   "source": [
    "VarScan_results_SRR1705860_01.loc[VarScan_results_SRR1705860_01['frequency %'] > 0.250327868852459+3*0.07803775182808968] \n",
    "VarScan_results_SRR1705860_01.loc[VarScan_results_SRR1705860_01['frequency %'] < 0.250327868852459-3*0.07803775182808968]\n"
   ]
  },
  {
   "cell_type": "code",
   "execution_count": 171,
   "id": "92ee788d",
   "metadata": {},
   "outputs": [
    {
     "data": {
      "text/html": [
       "<div>\n",
       "<style scoped>\n",
       "    .dataframe tbody tr th:only-of-type {\n",
       "        vertical-align: middle;\n",
       "    }\n",
       "\n",
       "    .dataframe tbody tr th {\n",
       "        vertical-align: top;\n",
       "    }\n",
       "\n",
       "    .dataframe thead th {\n",
       "        text-align: right;\n",
       "    }\n",
       "</style>\n",
       "<table border=\"1\" class=\"dataframe\">\n",
       "  <thead>\n",
       "    <tr style=\"text-align: right;\">\n",
       "      <th></th>\n",
       "      <th>name</th>\n",
       "      <th>position</th>\n",
       "      <th>reference base</th>\n",
       "      <th>alternative base</th>\n",
       "      <th>frequency</th>\n",
       "    </tr>\n",
       "  </thead>\n",
       "  <tbody>\n",
       "    <tr>\n",
       "      <th>11</th>\n",
       "      <td>KF848938.1</td>\n",
       "      <td>254</td>\n",
       "      <td>A</td>\n",
       "      <td>G</td>\n",
       "      <td>0.25%</td>\n",
       "    </tr>\n",
       "    <tr>\n",
       "      <th>12</th>\n",
       "      <td>KF848938.1</td>\n",
       "      <td>276</td>\n",
       "      <td>A</td>\n",
       "      <td>G</td>\n",
       "      <td>0.22%</td>\n",
       "    </tr>\n",
       "    <tr>\n",
       "      <th>15</th>\n",
       "      <td>KF848938.1</td>\n",
       "      <td>340</td>\n",
       "      <td>T</td>\n",
       "      <td>C</td>\n",
       "      <td>0.23%</td>\n",
       "    </tr>\n",
       "    <tr>\n",
       "      <th>30</th>\n",
       "      <td>KF848938.1</td>\n",
       "      <td>691</td>\n",
       "      <td>A</td>\n",
       "      <td>G</td>\n",
       "      <td>0.23%</td>\n",
       "    </tr>\n",
       "    <tr>\n",
       "      <th>31</th>\n",
       "      <td>KF848938.1</td>\n",
       "      <td>722</td>\n",
       "      <td>A</td>\n",
       "      <td>G</td>\n",
       "      <td>0.23%</td>\n",
       "    </tr>\n",
       "    <tr>\n",
       "      <th>32</th>\n",
       "      <td>KF848938.1</td>\n",
       "      <td>744</td>\n",
       "      <td>A</td>\n",
       "      <td>G</td>\n",
       "      <td>0.21%</td>\n",
       "    </tr>\n",
       "    <tr>\n",
       "      <th>34</th>\n",
       "      <td>KF848938.1</td>\n",
       "      <td>859</td>\n",
       "      <td>A</td>\n",
       "      <td>G</td>\n",
       "      <td>0.27%</td>\n",
       "    </tr>\n",
       "    <tr>\n",
       "      <th>35</th>\n",
       "      <td>KF848938.1</td>\n",
       "      <td>915</td>\n",
       "      <td>T</td>\n",
       "      <td>C</td>\n",
       "      <td>0.26%</td>\n",
       "    </tr>\n",
       "    <tr>\n",
       "      <th>41</th>\n",
       "      <td>KF848938.1</td>\n",
       "      <td>1086</td>\n",
       "      <td>A</td>\n",
       "      <td>G</td>\n",
       "      <td>0.33%</td>\n",
       "    </tr>\n",
       "    <tr>\n",
       "      <th>43</th>\n",
       "      <td>KF848938.1</td>\n",
       "      <td>1213</td>\n",
       "      <td>A</td>\n",
       "      <td>G</td>\n",
       "      <td>0.24%</td>\n",
       "    </tr>\n",
       "    <tr>\n",
       "      <th>46</th>\n",
       "      <td>KF848938.1</td>\n",
       "      <td>1280</td>\n",
       "      <td>T</td>\n",
       "      <td>C</td>\n",
       "      <td>0.25%</td>\n",
       "    </tr>\n",
       "  </tbody>\n",
       "</table>\n",
       "</div>"
      ],
      "text/plain": [
       "          name position reference base alternative base frequency\n",
       "11  KF848938.1      254              A                G     0.25%\n",
       "12  KF848938.1      276              A                G     0.22%\n",
       "15  KF848938.1      340              T                C     0.23%\n",
       "30  KF848938.1      691              A                G     0.23%\n",
       "31  KF848938.1      722              A                G     0.23%\n",
       "32  KF848938.1      744              A                G     0.21%\n",
       "34  KF848938.1      859              A                G     0.27%\n",
       "35  KF848938.1      915              T                C     0.26%\n",
       "41  KF848938.1     1086              A                G     0.33%\n",
       "43  KF848938.1     1213              A                G     0.24%\n",
       "46  KF848938.1     1280              T                C     0.25%"
      ]
     },
     "execution_count": 171,
     "metadata": {},
     "output_type": "execute_result"
    }
   ],
   "source": [
    "VarScan_results_SRR1705858_01.loc[VarScan_results_SRR1705858_01.position.isin(common_variants)]"
   ]
  },
  {
   "cell_type": "code",
   "execution_count": 38,
   "id": "ecd91567",
   "metadata": {},
   "outputs": [
    {
     "data": {
      "text/html": [
       "<div>\n",
       "<style scoped>\n",
       "    .dataframe tbody tr th:only-of-type {\n",
       "        vertical-align: middle;\n",
       "    }\n",
       "\n",
       "    .dataframe tbody tr th {\n",
       "        vertical-align: top;\n",
       "    }\n",
       "\n",
       "    .dataframe thead th {\n",
       "        text-align: right;\n",
       "    }\n",
       "</style>\n",
       "<table border=\"1\" class=\"dataframe\">\n",
       "  <thead>\n",
       "    <tr style=\"text-align: right;\">\n",
       "      <th></th>\n",
       "      <th>name</th>\n",
       "      <th>position</th>\n",
       "      <th>reference base</th>\n",
       "      <th>alternative base</th>\n",
       "      <th>frequency %</th>\n",
       "    </tr>\n",
       "  </thead>\n",
       "  <tbody>\n",
       "    <tr>\n",
       "      <th>0</th>\n",
       "      <td>KF848938.1</td>\n",
       "      <td>72</td>\n",
       "      <td>A</td>\n",
       "      <td>G</td>\n",
       "      <td>99.96</td>\n",
       "    </tr>\n",
       "    <tr>\n",
       "      <th>1</th>\n",
       "      <td>KF848938.1</td>\n",
       "      <td>117</td>\n",
       "      <td>C</td>\n",
       "      <td>T</td>\n",
       "      <td>99.82</td>\n",
       "    </tr>\n",
       "    <tr>\n",
       "      <th>2</th>\n",
       "      <td>KF848938.1</td>\n",
       "      <td>307</td>\n",
       "      <td>C</td>\n",
       "      <td>T</td>\n",
       "      <td>0.94</td>\n",
       "    </tr>\n",
       "    <tr>\n",
       "      <th>3</th>\n",
       "      <td>KF848938.1</td>\n",
       "      <td>774</td>\n",
       "      <td>T</td>\n",
       "      <td>C</td>\n",
       "      <td>99.96</td>\n",
       "    </tr>\n",
       "    <tr>\n",
       "      <th>4</th>\n",
       "      <td>KF848938.1</td>\n",
       "      <td>999</td>\n",
       "      <td>C</td>\n",
       "      <td>T</td>\n",
       "      <td>99.86</td>\n",
       "    </tr>\n",
       "    <tr>\n",
       "      <th>5</th>\n",
       "      <td>KF848938.1</td>\n",
       "      <td>1260</td>\n",
       "      <td>A</td>\n",
       "      <td>C</td>\n",
       "      <td>99.94</td>\n",
       "    </tr>\n",
       "    <tr>\n",
       "      <th>6</th>\n",
       "      <td>KF848938.1</td>\n",
       "      <td>1458</td>\n",
       "      <td>T</td>\n",
       "      <td>C</td>\n",
       "      <td>0.84</td>\n",
       "    </tr>\n",
       "  </tbody>\n",
       "</table>\n",
       "</div>"
      ],
      "text/plain": [
       "         name position reference base alternative base  frequency %\n",
       "0  KF848938.1       72              A                G        99.96\n",
       "1  KF848938.1      117              C                T        99.82\n",
       "2  KF848938.1      307              C                T         0.94\n",
       "3  KF848938.1      774              T                C        99.96\n",
       "4  KF848938.1      999              C                T        99.86\n",
       "5  KF848938.1     1260              A                C        99.94\n",
       "6  KF848938.1     1458              T                C         0.84"
      ]
     },
     "execution_count": 38,
     "metadata": {},
     "output_type": "execute_result"
    }
   ],
   "source": [
    "VarScan_results_SRR1705851_05 = read_vcf('VarScan_results_SRR1705851_05.vcf')\n",
    "VarScan_results_SRR1705851_05"
   ]
  },
  {
   "cell_type": "code",
   "execution_count": null,
   "id": "83374095",
   "metadata": {},
   "outputs": [],
   "source": []
  }
 ],
 "metadata": {
  "kernelspec": {
   "display_name": "Python 3 (ipykernel)",
   "language": "python",
   "name": "python3"
  },
  "language_info": {
   "codemirror_mode": {
    "name": "ipython",
    "version": 3
   },
   "file_extension": ".py",
   "mimetype": "text/x-python",
   "name": "python",
   "nbconvert_exporter": "python",
   "pygments_lexer": "ipython3",
   "version": "3.7.9"
  }
 },
 "nbformat": 4,
 "nbformat_minor": 5
}
